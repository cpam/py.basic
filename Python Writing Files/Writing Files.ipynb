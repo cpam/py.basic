{
 "cells": [
  {
   "cell_type": "markdown",
   "metadata": {},
   "source": [
    "### Writing to a file\n",
    "You can create a new text file and write data to it using Python's open() function. The open() function takes two main arguments: the file path (including the file name) and the mode parameter, which specifies the operation you want to perform on the file. For writing, you should use the mode 'w'. "
   ]
  },
  {
   "cell_type": "code",
   "execution_count": 2,
   "metadata": {},
   "outputs": [],
   "source": [
    "# Create a new file Example2.txt for writing\n",
    "with open('Example2.txt', 'w') as File1:    # We start by using the open function to open or create a file named Example2.txt for writing ('w' mode).\n",
    "                                            # The 'w' mode specifies that we intend to write data to the file. \n",
    "                                            # We use the with statement to ensure that the file is automatically closed when the code block exits. This helps manage resources efficiently.\n",
    "        \n",
    "    File1.write(\"This is line A\\n\")         # Here, we use the write() method on the file object, File1, to add the text This is line A to the file.\n",
    "                                            # The \\n at the end represents a newline character, which starts a new line in the file.\n",
    "                                            \n",
    "    File1.write(\"This is line B\\n\")         # Similarly, we use the write() method again to add the text This is line B to the file on a new line.\n",
    "    \n",
    "    # File1 is automatically closed when the 'with' block exits"
   ]
  },
  {
   "cell_type": "markdown",
   "metadata": {},
   "source": [
    "### Writing multiple lines to a file using a list and loop\n",
    "you can use a list to store multiple lines of text and then write these lines to a file using a loop."
   ]
  },
  {
   "cell_type": "code",
   "execution_count": null,
   "metadata": {},
   "outputs": [],
   "source": [
    "# List of lines to write to the file\n",
    "Lines = [\"This is line 1\", \"This is line 2\", \"This is line 3\"]  # list called Lines, which contains multiple lines of text that we want to write to the file. Each line is a string.\n",
    "\n",
    "# Create a new file Example3.txt for writing\n",
    "with open('Example3.txt', 'w') as File2:                        # Next, we use the open() function to create a new text file named Example3.txt for writing, 'w' mode. The 'w' mode indicates that we intend to write data to the file.\n",
    "    for line in Lines:                                          # We then enter a for loop to iterate through each element (line) in the Lines list.\n",
    "        \n",
    "        File2.write(line + \"\\n\")                                # Inside the loop, we use the write() method on the file object File2 to write the current line of text (line) to the file. We add \\n at the end of each line to ensure that each line is \n",
    "                                                                # followed by a newline character, which separates them in the file.\n",
    "\n",
    "    # File2 is automatically closed when the 'with' block exits"
   ]
  },
  {
   "cell_type": "markdown",
   "metadata": {},
   "source": [
    "### Appending data to an existing file\n",
    "You can use the 'a' mode when opening a file to append new data to an existing file without overwriting its contents."
   ]
  },
  {
   "cell_type": "code",
   "execution_count": null,
   "metadata": {},
   "outputs": [],
   "source": [
    "# Data to append to the existing file\n",
    "new_data = \"This is line C\"                 # defining a variable new_data that contains the text we want to append to the existing file. In this case, it's the string `This is line C.``\n",
    "\n",
    "# Open an existing file Example2.txt for appending\n",
    "with open('Example2.txt', 'a') as File1:    # we use the open() function to open an existing file named Example2.txt for appending, 'a' mode. The 'a' mode indicates that we intend to append data to the file, and if the file doesn't exist, it will be created.\n",
    "    File1.write(new_data + \"\\n\")            # we use the write() method on the file object File1 to append the new_data to the file. We add \"\\n\" at the end to ensure that the appended data starts on a new line, maintaining the file's readability.\n",
    "    \n",
    "# File1 is automatically closed when the 'with' block exits"
   ]
  },
  {
   "cell_type": "markdown",
   "metadata": {},
   "source": [
    "### Copying contents from one file to another\n",
    "You can copy the contents of one file to another by reading from the source file and writing to the destination file."
   ]
  },
  {
   "cell_type": "code",
   "execution_count": null,
   "metadata": {},
   "outputs": [],
   "source": [
    "# Open the source file for reading\n",
    "with open('source.txt', 'r') as source_file:                # start by opening the source file, source.txt for reading, r mode, using the with statement and the open() function. This allows us to read data from the source file.\n",
    "    # Open the destination file for writing\n",
    "    with open('destination.txt', 'w') as destination_file:  # we open the destination file, destination.txt for writing, w mode, using another with statement and the open() function. This prepares the destination file for writing.\n",
    "        \n",
    "        # Read lines from the source file and copy them to the destination file\n",
    "        for line in source_file:                            # loop to iterate through each line in the source file source_file. This loop reads each line from the source file one by one.\n",
    "            destination_file.write(line)                    # we use the write() method to write each line from the source file to the destination file destination_file. This effectively copies the content of the source file to the destination file.\n",
    "            \n",
    "    # Destination file is automatically closed when the 'with' block exits\n",
    "# Source file is automatically closed when the 'with' block exits"
   ]
  },
  {
   "cell_type": "markdown",
   "metadata": {},
   "source": [
    "### File modes in Python (syntax and use cases)\n",
    "The following table provides an overview of different file modes, their syntax, and common use cases. Understanding these modes is essential when working with files in Python for various data manipulation tasks."
   ]
  },
  {
   "cell_type": "code",
   "execution_count": null,
   "metadata": {},
   "outputs": [],
   "source": [
    "Mode\tSyntax\tDescription\n",
    "‘r’\t     'r'\tRead mode. Opens an existing file for reading. Raises an error if the file doesn't exist.\n",
    "‘w’\t     'w'\tWrite mode. Creates a new file for writing. Overwrites the file if it already exists.\n",
    "‘a’\t     'a'\tAppend mode. Opens a file for appending data. Creates the file if it doesn't exist.\n",
    "‘x’\t     'x'\tExclusive creation mode. Creates a new file for writing but raises an error if the file already exists.\n",
    "‘rb’\t'rb'\tRead binary mode. Opens an existing binary file for reading.\n",
    "‘wb’\t'wb'\tWrite binary mode. Creates a new binary file for writing.\n",
    "‘ab’\t'ab'\tAppend binary mode. Opens a binary file for appending data.\n",
    "‘xb’\t'xb'\tExclusive binary creation mode. Creates a new binary file for writing but raises an error if it already exists.\n",
    "‘rt’\t'rt'\tRead text mode. Opens an existing text file for reading. (Default for text files)\n",
    "‘wt’\t'wt'\tWrite text mode. Creates a new text file for writing. (Default for text files)\n",
    "‘at’\t'at'\tAppend text mode. Opens a text file for appending data. (Default for text files)\n",
    "‘xt’\t'xt'\tExclusive text creation mode. Creates a new text file for writing but raises an error if it already exists.\n",
    "‘r+’\t'r+'\tRead and write mode. Opens an existing file for both reading and writing.\n",
    "‘w+’\t'w+'\tWrite and read mode. Creates a new file for reading and writing. Overwrites the file if it already exists.\n",
    "‘a+’\t'a+'\tAppend and read mode. Opens a file for both appending and reading. Creates the file if it doesn't exist.\n",
    "‘x+’\t'x+'\tExclusive creation and read/write mode. Creates a new file for reading and writing but raises an error if it already exists."
   ]
  }
 ],
 "metadata": {
  "kernelspec": {
   "display_name": "base",
   "language": "python",
   "name": "python3"
  },
  "language_info": {
   "codemirror_mode": {
    "name": "ipython",
    "version": 3
   },
   "file_extension": ".py",
   "mimetype": "text/x-python",
   "name": "python",
   "nbconvert_exporter": "python",
   "pygments_lexer": "ipython3",
   "version": "3.11.5"
  }
 },
 "nbformat": 4,
 "nbformat_minor": 2
}
