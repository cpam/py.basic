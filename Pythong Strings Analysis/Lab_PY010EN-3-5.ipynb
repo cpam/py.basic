{
 "cells": [
  {
   "cell_type": "markdown",
   "metadata": {},
   "source": [
    "## Text Analysis"
   ]
  },
  {
   "cell_type": "markdown",
   "metadata": {},
   "source": [
    "## Use Case:  Let's consider a real-life scenario where you are analyzing customer feedback for a product. You have a large dataset of customer reviews in the form of strings, and you want to extract useful information from them."
   ]
  },
  {
   "cell_type": "markdown",
   "metadata": {},
   "source": [
    "##  Converted all customer reviews to lower case to standardize the text for consistent analysis."
   ]
  },
  {
   "cell_type": "markdown",
   "metadata": {},
   "source": [
    "### Part A:  Create 3 methods:  \n",
    "#### 1.  Change text format removing punctuations for analysis. \n",
    "#### 2. Identify frequency of words. \n",
    "#### 3.  Identify specific words."
   ]
  },
  {
   "cell_type": "code",
   "execution_count": 18,
   "metadata": {},
   "outputs": [],
   "source": [
    "# Step 1: define string\n",
    "givenstring=\"Lorem ipsum dolor! diam amet, consetetur Lorem magna. sed diam nonumy eirmod tempor. diam et labore? et diam magna. et diam amet.\""
   ]
  },
  {
   "cell_type": "code",
   "execution_count": 19,
   "metadata": {},
   "outputs": [],
   "source": [
    "#   Need to create a class with 3 methods. \n",
    "\n",
    "# Step 2: Let's define the class and it's attributes.   \n",
    "\n",
    "class TextAnalyzer(object): # Name the class 'TextAnalyzer'.\n",
    "    \n",
    "    # CONSTRUCTOR\n",
    "    def __init__(self, text):   # Define the constructor that will take the text argument.\n",
    "\n",
    "# Step 3: Implement a code to Format the text in Lowercase. \n",
    "\n",
    "    # METHOD\n",
    "        formattedText = text.replace('.','').replace('!','').replace('?','').replace(',','') # remove punctuation using the '.replace()' method.  \n",
    "        formattedText = formattedText.lower() # make text lowercase using the '.lower()' method.  \n",
    "        self.fmtText = formattedText # Assign the new formatted text to a new attribute called 'fmtText'  \n",
    "\n",
    "# Step 4:  Implement a code to count the Frequency of all unique words. \n",
    "\n",
    "    # Define method function (COUNT OF THE FREQUENCY OF ALL UNIQUE WORDS AND ASSIGN IT TO A DICTIONARY.)  \n",
    "    def freqAll(self):  # self is to access attributes and other methods in this class.  \n",
    "        \n",
    "        wordList = self.fmtText.split(' ') # Method to split the words from 'fmtText' attributes into individual words. \n",
    "        \n",
    "        # Create a dictionary to store the words frequency.  \n",
    "        freqMap = {} # Creates an empty dictionary named 'freqMap' \n",
    "        \n",
    "        for word in set(wordList): # a loop that iterates over each unique word in 'wordList'.  'set(wordList)' converts the list of words into a set,\n",
    "                                   # which then removes any duplicate entries so that each word is counted only once.  \n",
    "                                   \n",
    "            freqMap[word] = wordList.count(word) # Inside the loop, each unique word calculates the frequency of the words inside the 'wordList'.  \n",
    "                                                 # The 'count(word)' method counts how many times the word appears inside 'wordList'.  \n",
    "                                                 # The count is assigned to the corresponding key in the 'freMap' dictionary. \n",
    "            \n",
    "        return freqMap\n",
    "    \n",
    "# Step 5:  Implement a code to count the Frequency of a specific word. \n",
    "\n",
    "    # Define a method 'freqof' to find the frequency of a specified word in a text.\n",
    "    def freqof(self,word):\n",
    "        \n",
    "        # Call 'freqAll()' method from the same class to get a dictionary of word frequencies.\n",
    "        freqDict = self.freqAll()\n",
    "        \n",
    "        # Check if the specified word is in the frequency dictionary.\n",
    "        if word in freqDict:\n",
    "            \n",
    "            # If the word is found, return its frequency.\n",
    "            return freqDict[word]\n",
    "        \n",
    "        # If the word is not in the dictionary,\n",
    "        else:\n",
    "            # Return 0, indicating the word does not appear in the text.\n",
    "            return 0\n",
    "        \n",
    "\n",
    "        \n",
    "        "
   ]
  },
  {
   "cell_type": "markdown",
   "metadata": {},
   "source": [
    "### Part-B:  Calling the functions created in Part A, allowing the functions to execute and generate output."
   ]
  },
  {
   "cell_type": "code",
   "execution_count": 21,
   "metadata": {},
   "outputs": [],
   "source": [
    "#   Step-1. Then we determine word frequencies in customer reviews, revealing the most common terms \n",
    "#   like \"really,\" \"great,\" and \"quality.\"\n",
    "\n",
    "analyzed = TextAnalyzer(givenstring)"
   ]
  },
  {
   "cell_type": "code",
   "execution_count": 22,
   "metadata": {},
   "outputs": [
    {
     "name": "stdout",
     "output_type": "stream",
     "text": [
      "Formatted Text: lorem ipsum dolor diam amet consetetur lorem magna sed diam nonumy eirmod tempor diam et labore et diam magna et diam amet\n"
     ]
    }
   ],
   "source": [
    "#   Step-2. Call the function that converts the data into lowercase. \n",
    "\n",
    "print(\"Formatted Text:\", analyzed.fmtText)"
   ]
  },
  {
   "cell_type": "code",
   "execution_count": 24,
   "metadata": {},
   "outputs": [
    {
     "name": "stdout",
     "output_type": "stream",
     "text": [
      "{'et': 3, 'dolor': 1, 'consetetur': 1, 'eirmod': 1, 'diam': 5, 'lorem': 2, 'sed': 1, 'ipsum': 1, 'labore': 1, 'tempor': 1, 'magna': 2, 'nonumy': 1, 'amet': 2}\n"
     ]
    }
   ],
   "source": [
    "#   Step-3.  Call the function that counts the frequency of all unique words from the data. \n",
    "\n",
    "freqMap = analyzed.freqAll()\n",
    "print(freqMap)"
   ]
  },
  {
   "cell_type": "code",
   "execution_count": 26,
   "metadata": {},
   "outputs": [
    {
     "name": "stdout",
     "output_type": "stream",
     "text": [
      "The word lorem appears 2 times.\n"
     ]
    }
   ],
   "source": [
    "#   Step-4.  Call the function that counts the frequency of specific word. \n",
    "\n",
    "word = \"lorem\" \n",
    "frequency = analyzed.freqof(word)\n",
    "print(\"The word\",word,\"appears\",frequency,\"times.\")\n"
   ]
  },
  {
   "cell_type": "code",
   "execution_count": null,
   "metadata": {},
   "outputs": [],
   "source": []
  },
  {
   "cell_type": "code",
   "execution_count": null,
   "metadata": {},
   "outputs": [],
   "source": []
  },
  {
   "cell_type": "code",
   "execution_count": null,
   "metadata": {},
   "outputs": [],
   "source": []
  }
 ],
 "metadata": {
  "kernelspec": {
   "display_name": "base",
   "language": "python",
   "name": "python3"
  },
  "language_info": {
   "codemirror_mode": {
    "name": "ipython",
    "version": 3
   },
   "file_extension": ".py",
   "mimetype": "text/x-python",
   "name": "python",
   "nbconvert_exporter": "python",
   "pygments_lexer": "ipython3",
   "version": "3.11.5"
  }
 },
 "nbformat": 4,
 "nbformat_minor": 2
}
