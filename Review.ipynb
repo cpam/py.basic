{
 "cells": [
  {
   "cell_type": "markdown",
   "metadata": {},
   "source": [
    "In this code, the if-else statement checks whether the variable x is equal to the string \"Go\". If it is, it prints \"Go \", otherwise it prints \"Stop\". After the if-else statement, it always prints \"Mike\" regardless of the condition's outcome."
   ]
  },
  {
   "cell_type": "code",
   "execution_count": 1,
   "metadata": {},
   "outputs": [
    {
     "name": "stdout",
     "output_type": "stream",
     "text": [
      "Go \n",
      "Mike\n"
     ]
    }
   ],
   "source": [
    "# Assigns the string \"Go\" to the variable x\n",
    "x = \"Go\"\n",
    "\n",
    "# Begins an if-else statement. Checks if the value of x is equal to \"Go\"\n",
    "if(x == \"Go\"):\n",
    "    \n",
    "    # This block will execute if x is equal to \"Go\". It prints the string 'Go '\n",
    "    print('Go ')\n",
    "\n",
    "# The else block is executed if the condition in the if statement (x == \"Go\") is not true\n",
    "else:\n",
    "    \n",
    "    # This block will execute if x is not equal to \"Go\". It prints the string 'Stop'\n",
    "    print('Stop')\n",
    "    \n",
    "# This print statement is outside the if-else block and will execute regardless of the above condition. It prints 'Mike'\n",
    "print('Mike')\n",
    "\n"
   ]
  },
  {
   "cell_type": "markdown",
   "metadata": {},
   "source": [
    "This comparison will return False because 1 is not greater than or equal to 5. However, since this comparison is not part of a print statement or assigned to any variable, the result (False) is not displayed or stored. If you want to see the result, you could wrap it in a print statement like this: print(x >= 5)."
   ]
  },
  {
   "cell_type": "code",
   "execution_count": 2,
   "metadata": {},
   "outputs": [
    {
     "data": {
      "text/plain": [
       "False"
      ]
     },
     "execution_count": 2,
     "metadata": {},
     "output_type": "execute_result"
    }
   ],
   "source": [
    "# Assigns the integer value 1 to the variable x\n",
    "x = 1\n",
    "\n",
    "# Evaluates whether x is greater than or equal to 5\n",
    "x >= 5\n"
   ]
  },
  {
   "cell_type": "markdown",
   "metadata": {},
   "source": [
    "In this code:\n",
    "\n",
    "The variable x is initially set to 0.\n",
    "The while loop continues to execute as long as x is less than 2.\n",
    "Inside the loop:\n",
    "The current value of x is printed.\n",
    "Then, x is incremented by 1.\n",
    "This loop will run twice: once when x is 0, and once when x is 1.\n",
    "When x becomes 2, the condition x < 2 evaluates to False, and the loop ends.\n",
    "The final values printed will be 0 and 1."
   ]
  },
  {
   "cell_type": "code",
   "execution_count": 3,
   "metadata": {},
   "outputs": [
    {
     "name": "stdout",
     "output_type": "stream",
     "text": [
      "0\n",
      "1\n"
     ]
    }
   ],
   "source": [
    "# Assigns the integer value 0 to the variable x\n",
    "x = 0\n",
    "\n",
    "# Begins a while loop that will continue as long as x is less than 2\n",
    "while(x < 2):\n",
    "    # Prints the current value of x\n",
    "    print(x)\n",
    "\n",
    "    # Increments x by 1. This is crucial for the loop to eventually terminate\n",
    "    x = x + 1\n"
   ]
  },
  {
   "cell_type": "markdown",
   "metadata": {},
   "source": [
    "In this code:\n",
    "\n",
    "The Points class is defined with two methods: __init__ and print_point.\n",
    "The __init__ method initializes each new instance of the Points class with two attributes, x and y.\n",
    "The print_point method is used to print the values of x and y of the Points instance.\n",
    "An instance p1 of the Points class is created with \"A\" and \"B\" as its x and y values, respectively.\n",
    "Finally, p1.print_point() is called, which prints the values of x and y of the instance p1, resulting in the output: x= A y= B."
   ]
  },
  {
   "cell_type": "code",
   "execution_count": 4,
   "metadata": {},
   "outputs": [
    {
     "name": "stdout",
     "output_type": "stream",
     "text": [
      "x= A  y= B\n"
     ]
    }
   ],
   "source": [
    "# Defines a class named Points\n",
    "class Points(object):\n",
    "    # The __init__ method is the constructor for the class. It's called when an instance of the class is created.\n",
    "    def __init__(self, x, y):\n",
    "        # These lines initialize the instance variables x and y with the values passed to the constructor\n",
    "        self.x = x\n",
    "        self.y = y\n",
    "\n",
    "    # Defines a method named print_point for the Points class\n",
    "    def print_point(self):\n",
    "        # This line prints the values of x and y for an instance of the Points class\n",
    "        print('x=', self.x, ' y=', self.y)\n",
    "\n",
    "# Creates an instance of the Points class with x as \"A\" and y as \"B\"\n",
    "p1 = Points(\"A\", \"B\")\n",
    "\n",
    "# Calls the print_point method on the instance p1 of the Points class\n",
    "p1.print_point()\n"
   ]
  },
  {
   "cell_type": "markdown",
   "metadata": {},
   "source": [
    "In this code:\n",
    "\n",
    "enumerate(['A', 'B', 'C']) takes a list ['A', 'B', 'C'] and returns pairs of an index (i) and a value (x) for each element in the list.\n",
    "i will be the index (starting from 0) and x will be the value from the list.\n",
    "In the loop, print(i, 2 * x) prints two things: the index i and the value x repeated twice (because 2 * x when x is a string results in the string being repeated twice).\n",
    "The output will be:\n",
    "0 AA for the first iteration (i = 0, x = 'A'),\n",
    "1 BB for the second iteration (i = 1, x = 'B'),\n",
    "2 CC for the third iteration (i = 2, x = 'C')."
   ]
  },
  {
   "cell_type": "code",
   "execution_count": 4,
   "metadata": {},
   "outputs": [
    {
     "name": "stdout",
     "output_type": "stream",
     "text": [
      "0 AA\n",
      "1 BB\n",
      "2 CC\n"
     ]
    }
   ],
   "source": [
    "# The for loop iterates over the list ['A', 'B', 'C'], with enumerate providing both the index (i) and the value (x) for each element.\n",
    "for i, x in enumerate(['A', 'B', 'C']):\n",
    "    # Prints the index (i) and twice the value (x) in each iteration.\n",
    "    # Note that concatenating a string with itself using multiplication results in repetition of the string.\n",
    "    print(i, 2 * x)\n"
   ]
  },
  {
   "cell_type": "markdown",
   "metadata": {},
   "source": [
    "In this code:\n",
    "\n",
    "The Points class is defined with an __init__ method to initialize instances and a print_point method to print their attributes.\n",
    "An instance p2 of the Points class is created with 1 and 2 as its x and y values, respectively.\n",
    "The value of x for the instance p2 is then changed to 'A'.\n",
    "Finally, p2.print_point() is called, which prints the values of x and y for p2. The output will be x= A y= 2, reflecting the updated value of x."
   ]
  },
  {
   "cell_type": "code",
   "execution_count": 5,
   "metadata": {},
   "outputs": [
    {
     "name": "stdout",
     "output_type": "stream",
     "text": [
      "x= A  y= 2\n"
     ]
    }
   ],
   "source": [
    "# Defines a class named Points\n",
    "class Points(object):\n",
    "    # The __init__ method is the constructor for the class, called when an instance is created.\n",
    "    def __init__(self, x, y):\n",
    "        # Initializes the instance variables x and y with the values passed to the constructor.\n",
    "        self.x = x\n",
    "        self.y = y\n",
    "\n",
    "    # Defines a method named print_point for the Points class.\n",
    "    def print_point(self):\n",
    "        # Prints the values of x and y for an instance of the Points class.\n",
    "        print('x=', self.x, ' y=', self.y)\n",
    "\n",
    "# Creates an instance of the Points class with x as 1 and y as 2.\n",
    "p2 = Points(1, 2)\n",
    "\n",
    "# Changes the value of the x attribute of the p2 instance to 'A'.\n",
    "p2.x = 'A'\n",
    "\n",
    "# Calls the print_point method on the instance p2 of the Points class.\n",
    "# This will print the current values of x and y for p2, which are now 'A' and 2.\n",
    "p2.print_point()\n"
   ]
  },
  {
   "cell_type": "markdown",
   "metadata": {},
   "source": [
    "In this function:\n",
    "\n",
    "The function delta takes one argument x.\n",
    "It checks whether x is equal to 0. If so, it sets a local variable y to 1. Otherwise, y is set to 0.\n",
    "The function then returns the value of y.\n",
    "This function essentially implements a simple check: it returns 1 if the input x is 0, and returns 0 for any other value of x. This is a kind of indicator or delta function, often used in mathematics and programming."
   ]
  },
  {
   "cell_type": "code",
   "execution_count": 10,
   "metadata": {},
   "outputs": [],
   "source": [
    "# Defines a function named delta with one parameter x\n",
    "def delta(x):\n",
    "    # Checks if the passed argument x is equal to 0\n",
    "    if x == 0:\n",
    "        # If x is 0, sets the variable y to 1\n",
    "        y = 1\n",
    "    else:\n",
    "        # If x is not 0, sets the variable y to 0\n",
    "        y = 0\n",
    "    # Returns the value of y\n",
    "    return y\n"
   ]
  },
  {
   "cell_type": "markdown",
   "metadata": {},
   "source": [
    "In this code:\n",
    "\n",
    "a is first set to 1 globally.\n",
    "The function do is defined, which takes one argument x.\n",
    "Inside the function, a is assigned a new value 100. This a is local to the function and does not affect the global a defined outside.\n",
    "The function returns the sum of x and the local a (which is 100).\n",
    "When do(1) is called, the function calculates 1 + 100, resulting in 101.\n",
    "Therefore, print(do(1)) will output 101."
   ]
  },
  {
   "cell_type": "code",
   "execution_count": 8,
   "metadata": {},
   "outputs": [
    {
     "name": "stdout",
     "output_type": "stream",
     "text": [
      "101\n"
     ]
    }
   ],
   "source": [
    "# Assigns the integer value 1 to the global variable a\n",
    "a = 1\n",
    "\n",
    "# Defines a function named do with one parameter x\n",
    "def do(x):\n",
    "    # Assigns the integer value 100 to a local variable a within the function scope\n",
    "    a = 100\n",
    "    # Returns the sum of x and the local a (which is 100)\n",
    "    return x + a\n",
    "\n",
    "# Calls the function do with the argument 1 and prints its return value\n",
    "print(do(1))\n"
   ]
  }
 ],
 "metadata": {
  "kernelspec": {
   "display_name": "base",
   "language": "python",
   "name": "python3"
  },
  "language_info": {
   "codemirror_mode": {
    "name": "ipython",
    "version": 3
   },
   "file_extension": ".py",
   "mimetype": "text/x-python",
   "name": "python",
   "nbconvert_exporter": "python",
   "pygments_lexer": "ipython3",
   "version": "3.11.5"
  }
 },
 "nbformat": 4,
 "nbformat_minor": 2
}
