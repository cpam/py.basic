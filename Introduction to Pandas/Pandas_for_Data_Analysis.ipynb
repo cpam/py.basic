{
 "cells": [
  {
   "cell_type": "markdown",
   "metadata": {},
   "source": [
    "### Key features and functionalities"
   ]
  },
  {
   "cell_type": "code",
   "execution_count": 2,
   "metadata": {},
   "outputs": [],
   "source": [
    "# Data Structures: Pandas offers two primary data structures - DataFrame and Series.\n",
    "#    1. A DataFrame is a two-dimensional, size-mutable, and potentially heterogeneous tabular data structure with labeled axes (rows and columns).\n",
    "#    2. A Series is a one-dimensional labeled array, essentially a single column or row of data.\n",
    "\n",
    "# Data Import and Export: Pandas makes it easy to read data from various sources, including CSV files, Excel spreadsheets, SQL databases, \n",
    "# and more. It can also export data to these formats, enabling seamless data exchange.\n",
    "\n",
    "# Data Merging and Joining: You can combine multiple DataFrames using methods like merge and join, similar to SQL operations, to create \n",
    "# more complex datasets from different sources.\n",
    "\n",
    "# Efficient Indexing: Pandas provides efficient indexing and selection methods, allowing you to access specific rows and columns of data quickly.\n",
    "\n",
    "# Custom Data Structures: You can create custom data structures and manipulate data in ways that suit your specific needs, extending Pandas'\n",
    "# capabilities"
   ]
  },
  {
   "cell_type": "markdown",
   "metadata": {},
   "source": [
    "#### Importing Pandas"
   ]
  },
  {
   "cell_type": "code",
   "execution_count": 1,
   "metadata": {},
   "outputs": [],
   "source": [
    "# Importing Pandas\n",
    "import pandas as pd"
   ]
  },
  {
   "cell_type": "markdown",
   "metadata": {},
   "source": [
    "#### Data Loading"
   ]
  },
  {
   "cell_type": "code",
   "execution_count": null,
   "metadata": {},
   "outputs": [],
   "source": [
    "# Data Loading\n",
    "# Pandas can be used to load data from vaious sources, such as CSV and Excel files. \n",
    "# The read.csv function is used t load data from a CSV file into a Pandas DataFrame. \n",
    "\n",
    "# To read a CSV file using the Pandas Library, you can use the pd.read_csv() function.abs\n",
    "import pandas as pd\n",
    "\n",
    "# Read the CSV file into a DataFrame\n",
    "df = pd.read_csv('your_file.csv')\n",
    "\n",
    "# Replace 'your_file.csv' with the actual file path of your CSV file. Make sure that the file is located in the same directory as\n",
    "# your Python script, or you provide the correct file path.\n"
   ]
  },
  {
   "cell_type": "markdown",
   "metadata": {},
   "source": [
    "#### Series: A one-dimensional array"
   ]
  },
  {
   "cell_type": "code",
   "execution_count": null,
   "metadata": {},
   "outputs": [],
   "source": [
    "#  a single column of data with labels or indices for each element. You can create a Series from various data sources, such as lists, \n",
    "#  NumPy arrays, or dictionaries\n",
    "\n",
    "import pandas as pd\n",
    "\n",
    "# Create a Series from a list\n",
    "data = [10, 20, 30, 40, 50]\n",
    "s = pd.Series(data)\n",
    "\n",
    "print(s)"
   ]
  },
  {
   "cell_type": "markdown",
   "metadata": {},
   "source": [
    "#### Accessing Elements in a Series\n",
    "You can access elements in a Series using the index labels or integer positions. Here are a few common methods for accessing Series data:\n",
    "\n"
   ]
  },
  {
   "cell_type": "code",
   "execution_count": null,
   "metadata": {},
   "outputs": [],
   "source": [
    "# Accessing by label\n",
    "print(s[2])     # Access the element with label 2 (value 30)\n",
    "\n",
    "# Accessing by position\n",
    "print(s.iloc[3]) # Access the element at position 3 (value 40)\n",
    "\n",
    "# Accessing by multiple elements\n",
    "print(s[1:4])   # Access a range of elements by label\n",
    "\n"
   ]
  },
  {
   "cell_type": "markdown",
   "metadata": {},
   "source": [
    "#### Series Attributes and Methods"
   ]
  },
  {
   "cell_type": "code",
   "execution_count": 3,
   "metadata": {},
   "outputs": [],
   "source": [
    "# Pandas Series come with various attributes and methods to help you manipulate and analyze data effectively. Here are a few essential ones:\n",
    "\n",
    "# values: Returns the Series data as a NumPy array.\n",
    "# index: Returns the index (labels) of the Series.\n",
    "# shape: Returns a tuple representing the dimensions of the Series.\n",
    "# size: Returns the number of elements in the Series.\n",
    "# mean(), sum(), min(), max(): Calculate summary statistics of the data.\n",
    "# unique(), nunique(): Get unique values or the number of unique values.\n",
    "# sort_values(), sort_index(): Sort the Series by values or index labels.\n",
    "# isnull(), notnull(): Check for missing (NaN) or non-missing values.\n",
    "# apply(): Apply a custom function to each element of the Ser"
   ]
  },
  {
   "cell_type": "markdown",
   "metadata": {},
   "source": [
    "#### Creating DataFrames from Dictionaries"
   ]
  },
  {
   "cell_type": "code",
   "execution_count": 4,
   "metadata": {},
   "outputs": [
    {
     "name": "stdout",
     "output_type": "stream",
     "text": [
      "      Name  Age           City\n",
      "0    Alice   25       New York\n",
      "1      Bob   30  San Francisco\n",
      "2  Charlie   35    Los Angeles\n",
      "3    David   28        Chicago\n"
     ]
    }
   ],
   "source": [
    "import pandas as pd\n",
    "\n",
    "# Creating a DataFrame from a dictionary\n",
    "data = {'Name': ['Alice', 'Bob', 'Charlie', 'David'],\n",
    "        'Age': [25, 30, 35, 28],\n",
    "        'City': ['New York', 'San Francisco', 'Los Angeles', 'Chicago']}\n",
    "\n",
    "df = pd.DataFrame(data)\n",
    "\n",
    "print(df)\n"
   ]
  },
  {
   "cell_type": "markdown",
   "metadata": {},
   "source": [
    "#### Column Selection"
   ]
  },
  {
   "cell_type": "code",
   "execution_count": 5,
   "metadata": {},
   "outputs": [
    {
     "name": "stdout",
     "output_type": "stream",
     "text": [
      "0      Alice\n",
      "1        Bob\n",
      "2    Charlie\n",
      "3      David\n",
      "Name: Name, dtype: object\n"
     ]
    }
   ],
   "source": [
    "print(df['Name'])  # Access the 'Name' column"
   ]
  },
  {
   "cell_type": "code",
   "execution_count": 9,
   "metadata": {},
   "outputs": [
    {
     "name": "stdout",
     "output_type": "stream",
     "text": [
      "      Name  Age           City\n",
      "0    Alice   25       New York\n",
      "1      Bob   30  San Francisco\n",
      "2  Charlie   35    Los Angeles\n",
      "3    David   28        Chicago\n"
     ]
    }
   ],
   "source": [
    " import pandas as pd\n",
    "\n",
    "# Creating a DataFrame from a dictionary\n",
    "data = {'Name': ['Alice', 'Bob', 'Charlie', 'David'],\n",
    "        'Age': [25, 30, 35, 28],\n",
    "        'City': ['New York', 'San Francisco', 'Los Angeles', 'Chicago']}\n",
    "\n",
    "df = pd.DataFrame(data)\n",
    "\n",
    "print(df)\n"
   ]
  },
  {
   "cell_type": "markdown",
   "metadata": {},
   "source": [
    "#### Accessing Rows"
   ]
  },
  {
   "cell_type": "code",
   "execution_count": 10,
   "metadata": {},
   "outputs": [
    {
     "name": "stdout",
     "output_type": "stream",
     "text": [
      "Name        Charlie\n",
      "Age              35\n",
      "City    Los Angeles\n",
      "Name: 2, dtype: object\n"
     ]
    }
   ],
   "source": [
    "# You can access rows by their index using '.iloc[] or by label using '.loc[]. \n",
    "\n",
    "# Access the third row by position.\n",
    "print(df.iloc[2])  "
   ]
  },
  {
   "cell_type": "code",
   "execution_count": 11,
   "metadata": {},
   "outputs": [
    {
     "name": "stdout",
     "output_type": "stream",
     "text": [
      "Name              Bob\n",
      "Age                30\n",
      "City    San Francisco\n",
      "Name: 1, dtype: object\n"
     ]
    }
   ],
   "source": [
    "# Access the second row by label\n",
    "print(df.loc[1])"
   ]
  },
  {
   "cell_type": "markdown",
   "metadata": {},
   "source": [
    "#### Slicing\n",
    "Slice DataFrames to select specific rows and columns"
   ]
  },
  {
   "cell_type": "code",
   "execution_count": 14,
   "metadata": {},
   "outputs": [
    {
     "name": "stdout",
     "output_type": "stream",
     "text": [
      "      Name  Age\n",
      "0    Alice   25\n",
      "1      Bob   30\n",
      "2  Charlie   35\n",
      "3    David   28\n"
     ]
    }
   ],
   "source": [
    "# Select specific columns\n",
    "print(df[['Name', 'Age']])"
   ]
  },
  {
   "cell_type": "code",
   "execution_count": 15,
   "metadata": {},
   "outputs": [
    {
     "name": "stdout",
     "output_type": "stream",
     "text": [
      "      Name  Age           City\n",
      "1      Bob   30  San Francisco\n",
      "2  Charlie   35    Los Angeles\n"
     ]
    }
   ],
   "source": [
    "# Select specific rows\n",
    "print(df[1:3])"
   ]
  },
  {
   "cell_type": "markdown",
   "metadata": {},
   "source": [
    "#### Finding Unique Elements\n",
    "Use the unique method to determine the unique elements in a column of a DataFrame."
   ]
  },
  {
   "cell_type": "code",
   "execution_count": 17,
   "metadata": {},
   "outputs": [
    {
     "name": "stdout",
     "output_type": "stream",
     "text": [
      "[25 30 35 28]\n"
     ]
    }
   ],
   "source": [
    "unique_dates = df['Age'].unique()\n",
    "print(unique_dates)"
   ]
  },
  {
   "cell_type": "markdown",
   "metadata": {},
   "source": [
    "#### Conditional Filtering"
   ]
  },
  {
   "cell_type": "code",
   "execution_count": 18,
   "metadata": {},
   "outputs": [
    {
     "name": "stdout",
     "output_type": "stream",
     "text": [
      "      Name  Age           City\n",
      "1      Bob   30  San Francisco\n",
      "2  Charlie   35    Los Angeles\n",
      "3    David   28        Chicago\n"
     ]
    }
   ],
   "source": [
    "# Filter data in DataFrame based on conditions using inequality operators. \n",
    "high_above_102 = df[df['Age']>25]\n",
    "print(high_above_102)"
   ]
  },
  {
   "cell_type": "markdown",
   "metadata": {},
   "source": [
    "#### Saving DataFrames\n",
    "To save a DataFrame to a CSV file, use method and specify the filename with a \".csv\" extension. "
   ]
  },
  {
   "cell_type": "code",
   "execution_count": 19,
   "metadata": {},
   "outputs": [],
   "source": [
    "df.to_csv('trading_data.csv', index=False)"
   ]
  },
  {
   "cell_type": "markdown",
   "metadata": {},
   "source": [
    "#### DataFrame Attributes and Methods\n",
    "DataFrames provide numerous attributes and methods for data manipulation and analysis:"
   ]
  },
  {
   "cell_type": "code",
   "execution_count": 20,
   "metadata": {},
   "outputs": [],
   "source": [
    "# shape: Returns the dimensions (number of rows and columns) of the DataFrame.\n",
    "# info(): Provides a summary of the DataFrame, including data types and non-null counts.\n",
    "# describe(): Generates summary statistics for numerical columns.\n",
    "# head(), tail(): Displays the first or last n rows of the DataFrame.\n",
    "# mean(), sum(), min(), max(): Calculate summary statistics for columns.\n",
    "# sort_values(): Sort the DataFrame by one or more columns.\n",
    "# groupby(): Group data based on specific columns for aggregation.\n",
    "# fillna(), drop(), rename(): Handle missing values, drop columns, or rename columns.\n",
    "# apply(): Apply a function to each element, row, or column of the DataFrame."
   ]
  }
 ],
 "metadata": {
  "kernelspec": {
   "display_name": "base",
   "language": "python",
   "name": "python3"
  },
  "language_info": {
   "codemirror_mode": {
    "name": "ipython",
    "version": 3
   },
   "file_extension": ".py",
   "mimetype": "text/x-python",
   "name": "python",
   "nbconvert_exporter": "python",
   "pygments_lexer": "ipython3",
   "version": "3.11.5"
  }
 },
 "nbformat": 4,
 "nbformat_minor": 2
}
